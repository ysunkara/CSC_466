{
 "cells": [
  {
   "cell_type": "markdown",
   "metadata": {},
   "source": [
    "CSC_466 Project\n",
    "Ash Parasa, William Huang, Yogitha Sunkara"
   ]
  },
  {
   "cell_type": "code",
   "execution_count": 1,
   "metadata": {},
   "outputs": [],
   "source": [
    "from pathlib import Path\n",
    "home = str(\"..\") # all other paths are relative to this path. change to something else if this is not the case on your system"
   ]
  },
  {
   "cell_type": "code",
   "execution_count": 2,
   "metadata": {},
   "outputs": [],
   "source": [
    "import pandas as pd"
   ]
  },
  {
   "cell_type": "code",
   "execution_count": 3,
   "metadata": {},
   "outputs": [],
   "source": [
    "df_symptoms = pd.read_csv(f\"{home}/CSC_466/2021VAERSSYMPTOMS.csv\")"
   ]
  },
  {
   "cell_type": "code",
   "execution_count": 4,
   "metadata": {},
   "outputs": [],
   "source": [
    "df_vax = pd.read_csv(f\"{home}/CSC_466/2021VAERSVAX.csv\")"
   ]
  },
  {
   "cell_type": "code",
   "execution_count": 5,
   "metadata": {},
   "outputs": [
    {
     "name": "stderr",
     "output_type": "stream",
     "text": [
      "/opt/tljh/user/lib/python3.7/site-packages/IPython/core/interactiveshell.py:3147: DtypeWarning: Columns (7,12,23) have mixed types.Specify dtype option on import or set low_memory=False.\n",
      "  interactivity=interactivity, compiler=compiler, result=result)\n"
     ]
    }
   ],
   "source": [
    "df_data = pd.read_csv(f\"{home}/CSC_466/2021VAERSDATA.csv\", encoding=\"latin1\")"
   ]
  },
  {
   "cell_type": "code",
   "execution_count": 6,
   "metadata": {},
   "outputs": [],
   "source": [
    "df_half = pd.merge(df_data, df_symptoms)\n",
    "df_covid = pd.merge(df_half, df_vax)"
   ]
  },
  {
   "cell_type": "code",
   "execution_count": 9,
   "metadata": {},
   "outputs": [
    {
     "data": {
      "text/plain": [
       "array(['MODERNA', 'PFIZER\\\\BIONTECH', 'UNKNOWN MANUFACTURER',\n",
       "       'SANOFI PASTEUR', 'GLAXOSMITHKLINE BIOLOGICALS', 'SEQIRUS, INC.',\n",
       "       'MERCK & CO. INC.', 'NOVARTIS VACCINES AND DIAGNOSTICS',\n",
       "       'PFIZER\\\\WYETH', 'PROTEIN SCIENCES CORPORATION',\n",
       "       'EMERGENT BIOSOLUTIONS', 'DYNAVAX TECHNOLOGIES CORPORATION',\n",
       "       'MEDIMMUNE VACCINES, INC.', 'BERNA BIOTECH, LTD.', 'JANSSEN'],\n",
       "      dtype=object)"
      ]
     },
     "execution_count": 9,
     "metadata": {},
     "output_type": "execute_result"
    }
   ],
   "source": [
    "df_covid['VAX_MANU'].unique()"
   ]
  },
  {
   "cell_type": "code",
   "execution_count": null,
   "metadata": {},
   "outputs": [],
   "source": []
  }
 ],
 "metadata": {
  "kernelspec": {
   "display_name": "Python 3",
   "language": "python",
   "name": "python3"
  },
  "language_info": {
   "codemirror_mode": {
    "name": "ipython",
    "version": 3
   },
   "file_extension": ".py",
   "mimetype": "text/x-python",
   "name": "python",
   "nbconvert_exporter": "python",
   "pygments_lexer": "ipython3",
   "version": "3.7.3"
  }
 },
 "nbformat": 4,
 "nbformat_minor": 4
}
