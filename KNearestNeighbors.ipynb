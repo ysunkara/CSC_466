{
 "cells": [
  {
   "cell_type": "code",
   "execution_count": 4,
   "metadata": {},
   "outputs": [],
   "source": [
    "import pandas as pd\n",
    "import numpy as np\n",
    "from sklearn.model_selection import train_test_split\n",
    "from sklearn.preprocessing import OneHotEncoder"
   ]
  },
  {
   "cell_type": "code",
   "execution_count": 5,
   "metadata": {},
   "outputs": [],
   "source": [
    "data = pd.read_csv('cleaned_data.csv')\n",
    "y = data['VAX_MANU']\n",
    "features = ['AGE_YRS', 'SEX', 'DIED', 'HOSPITAL', 'OFC_VISIT', 'ER_ED_VISIT', 'NUMDAYS', 'SYMPTOM1',\n",
    "       'SYMPTOM2', 'SYMPTOM3', 'SYMPTOM4', 'SYMPTOM5', 'SYMPTOM6', 'SYMPTOM7',\n",
    "       'SYMPTOM8', 'SYMPTOM9', 'SYMPTOM10']\n",
    "x = data[features]\n"
   ]
  },
  {
   "cell_type": "code",
   "execution_count": 6,
   "metadata": {},
   "outputs": [
    {
     "name": "stderr",
     "output_type": "stream",
     "text": [
      "/opt/tljh/user/lib/python3.7/site-packages/pandas/core/series.py:4469: SettingWithCopyWarning: \n",
      "A value is trying to be set on a copy of a slice from a DataFrame\n",
      "\n",
      "See the caveats in the documentation: https://pandas.pydata.org/pandas-docs/stable/user_guide/indexing.html#returning-a-view-versus-a-copy\n",
      "  downcast=downcast,\n",
      "/opt/tljh/user/lib/python3.7/site-packages/ipykernel_launcher.py:4: SettingWithCopyWarning: \n",
      "A value is trying to be set on a copy of a slice from a DataFrame\n",
      "\n",
      "See the caveats in the documentation: https://pandas.pydata.org/pandas-docs/stable/user_guide/indexing.html#returning-a-view-versus-a-copy\n",
      "  after removing the cwd from sys.path.\n"
     ]
    }
   ],
   "source": [
    "for i in range(1, 11):\n",
    "    colname = \"SYMPTOM\" + str(i)\n",
    "    x[colname].fillna(\"None\", inplace=True)\n",
    "x.dropna(inplace=True)\n",
    "cats = ['SEX', 'DIED', 'HOSPITAL', 'OFC_VISIT', 'ER_ED_VISIT', 'SYMPTOM1',\n",
    "       'SYMPTOM2', 'SYMPTOM3', 'SYMPTOM4', 'SYMPTOM5', 'SYMPTOM6', 'SYMPTOM7',\n",
    "       'SYMPTOM8', 'SYMPTOM9', 'SYMPTOM10']\n",
    "enc = OneHotEncoder(handle_unknown='ignore', sparse=False)\n",
    "res = enc.fit_transform(x[cats])\n",
    "concat = np.concatenate([x[['AGE_YRS', 'NUMDAYS']], res], axis=1)"
   ]
  },
  {
   "cell_type": "code",
   "execution_count": 7,
   "metadata": {},
   "outputs": [],
   "source": [
    "X_train, X_test, y_train, y_test = train_test_split(concat, y, test_size=0.3, random_state=0)"
   ]
  },
  {
   "cell_type": "code",
   "execution_count": 7,
   "metadata": {},
   "outputs": [
    {
     "data": {
      "text/plain": [
       "array(['PFIZER\\\\BIONTECH', 'MODERNA', 'PFIZER\\\\BIONTECH', ..., 'MODERNA',\n",
       "       'PFIZER\\\\BIONTECH', 'PFIZER\\\\BIONTECH'], dtype=object)"
      ]
     },
     "execution_count": 7,
     "metadata": {},
     "output_type": "execute_result"
    }
   ],
   "source": [
    "from sklearn.neighbors import KNeighborsClassifier\n",
    "knn = KNeighborsClassifier(n_neighbors=3)\n",
    "knn.fit(X_train,y_train)\n",
    "predictions = knn.predict(X_test)\n",
    "predictions\n"
   ]
  },
  {
   "cell_type": "code",
   "execution_count": 21,
   "metadata": {},
   "outputs": [
    {
     "data": {
      "text/plain": [
       "54.24248836225137"
      ]
     },
     "execution_count": 21,
     "metadata": {},
     "output_type": "execute_result"
    }
   ],
   "source": [
    "error = 0\n",
    "for x in range(0,len(y_test)):\n",
    "    if y_test.iloc[x] == predictions[x]:\n",
    "        error+=1\n",
    "(error/len(y_test))*100"
   ]
  }
 ],
 "metadata": {
  "kernelspec": {
   "display_name": "Python 3",
   "language": "python",
   "name": "python3"
  },
  "language_info": {
   "codemirror_mode": {
    "name": "ipython",
    "version": 3
   },
   "file_extension": ".py",
   "mimetype": "text/x-python",
   "name": "python",
   "nbconvert_exporter": "python",
   "pygments_lexer": "ipython3",
   "version": "3.7.3"
  }
 },
 "nbformat": 4,
 "nbformat_minor": 4
}
